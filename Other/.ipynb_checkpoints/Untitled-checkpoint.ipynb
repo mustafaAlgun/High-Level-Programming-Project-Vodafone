{
 "cells": [
  {
   "cell_type": "code",
   "execution_count": null,
   "id": "337b7ea0",
   "metadata": {},
   "outputs": [],
   "source": [
    "province_map = gpd.read_file(\"limits_IT_provinces.geojson\") #read geojson file from github\n",
    "province_map = province_map.to_crs(epsg=3395)#convert to crs epsg 3395 for europe area\n",
    "province_map =province_map[[\"prov_name\",\"geometry\"]] #we only use prov name and geometry\n",
    "province_map [\"centroid\"] = province_map.geometry.centroid #find the centroid of all provinces\n",
    "province_map\n",
    "\n",
    "region_map = gpd.read_file(\"limits_IT_regions.geojson\") #read geojson file from github\n",
    "region_map = region_map.to_crs(epsg=3395)#convert to crs epsg 3395 for projection\n",
    "region_map = region_map[[\"reg_name\", \"geometry\"]] #we will only use region name and geometry columns\n",
    "region_map [\"centroid\"] = region_map.geometry.centroid #find the centroid of each location\n",
    "region_map =region_map.drop(4) #drop veneto as we want nearby regions\n",
    "region_map = region_map.assign(dist_to_padova=region_map.distance(point)) #assign distance towards padova\n",
    "region_map =region_map.sort_values(by = 'dist_to_padova', ascending = True) #sort by distance\n",
    "region_map.drop(columns=['geometry','centroid'])\n",
    "region_map.head(4)\n",
    "\n",
    "geo_data_region = gpd.read_file(\"limits_IT_regions.geojson\") #read geojson file from github\n",
    "\n",
    "#print(df_visitors)\n",
    "# Used Mercator projection(crs=3395), which is good for the locations near to equator. \n",
    "geo_data_region = geo_data_region.to_crs(epsg=3395)\n",
    "#Center point of Padova\n",
    "Polygon_Padova = geo_data_region[geo_data_region['prov_istat_code_num']==28]['geometry']\n",
    "#print(Polygon_Padova)\n",
    "#from geometry object(Polygon), center point can be easily obtained.\n",
    "# iloc is very important here because the object is GeoSeries, the first element of it gives point object!!!\n",
    "Center_Padova = Polygon_Padova.centroid.iloc[0]"
   ]
  },
  {
   "cell_type": "code",
   "execution_count": null,
   "id": "ebfb684a",
   "metadata": {},
   "outputs": [],
   "source": []
  }
 ],
 "metadata": {
  "kernelspec": {
   "display_name": "Python 3 (ipykernel)",
   "language": "python",
   "name": "python3"
  },
  "language_info": {
   "codemirror_mode": {
    "name": "ipython",
    "version": 3
   },
   "file_extension": ".py",
   "mimetype": "text/x-python",
   "name": "python",
   "nbconvert_exporter": "python",
   "pygments_lexer": "ipython3",
   "version": "3.9.10"
  }
 },
 "nbformat": 4,
 "nbformat_minor": 5
}
